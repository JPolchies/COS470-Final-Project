{
 "cells": [
  {
   "cell_type": "code",
   "execution_count": null,
   "id": "0ab2ddff",
   "metadata": {},
   "outputs": [],
   "source": [
    "import pandas as pd\n",
    "import numpy as np\n",
    "import seaborn as sns\n",
    "import matplotlib.pyplot as plt\n",
    "import polars as pl\n",
    "import torch"
   ]
  },
  {
   "cell_type": "code",
   "execution_count": null,
   "id": "3b84de7e",
   "metadata": {},
   "outputs": [],
   "source": [
    "train_series = pd.read_parquet('train_series.parquet', engine='pyarrow')\n",
    "test_series = pd.read_parquet('train_series.parquet', engine='pyarrow')\n",
    "train_event = pd.read_csv('train_events.csv')"
   ]
  },
  {
   "cell_type": "code",
   "execution_count": null,
   "id": "df0af7d8",
   "metadata": {},
   "outputs": [],
   "source": [
    "train_event_na=train_event[train_event.isna().any(axis=1)]\n",
    "train_event_na"
   ]
  },
  {
   "cell_type": "code",
   "execution_count": null,
   "id": "51d50c41",
   "metadata": {},
   "outputs": [],
   "source": [
    "train_event_no_nan = train_event.dropna()\n",
    "train_event_no_nan"
   ]
  },
  {
   "cell_type": "code",
   "execution_count": null,
   "id": "927afe98",
   "metadata": {},
   "outputs": [],
   "source": []
  }
 ],
 "metadata": {
  "kernelspec": {
   "display_name": "Python 3 (ipykernel)",
   "language": "python",
   "name": "python3"
  },
  "language_info": {
   "codemirror_mode": {
    "name": "ipython",
    "version": 3
   },
   "file_extension": ".py",
   "mimetype": "text/x-python",
   "name": "python",
   "nbconvert_exporter": "python",
   "pygments_lexer": "ipython3",
   "version": "3.9.13"
  }
 },
 "nbformat": 4,
 "nbformat_minor": 5
}
